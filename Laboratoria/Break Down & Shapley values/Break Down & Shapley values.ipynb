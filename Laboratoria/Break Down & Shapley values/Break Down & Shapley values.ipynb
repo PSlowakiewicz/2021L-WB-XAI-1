{
 "cells": [
  {
   "cell_type": "code",
   "execution_count": null,
   "metadata": {},
   "outputs": [],
   "source": [
    "!pip install dalex"
   ]
  },
  {
   "cell_type": "code",
   "execution_count": null,
   "metadata": {},
   "outputs": [],
   "source": [
    "import pandas as pd\n",
    "import pickle"
   ]
  },
  {
   "cell_type": "markdown",
   "metadata": {},
   "source": [
    "# Metoda Break Down"
   ]
  },
  {
   "cell_type": "markdown",
   "metadata": {},
   "source": [
    "![](figures/1.png)"
   ]
  },
  {
   "cell_type": "markdown",
   "metadata": {},
   "source": [
    "*Prawdopodobnie najczęściej zadawanym pytaniem podczas próby zrozumienia przewidywań modelu dla pojedynczej obserwacji jest: które zmienne najbardziej przyczyniają się do tego wyniku?*"
   ]
  },
  {
   "cell_type": "markdown",
   "metadata": {},
   "source": [
    "## Idea"
   ]
  },
  {
   "cell_type": "markdown",
   "metadata": {},
   "source": [
    "![](figures/2.png)\n",
    "##### http://ema.drwhy.ai/breakDown.html"
   ]
  },
  {
   "cell_type": "markdown",
   "metadata": {},
   "source": [
    "#### Wyjaśnienie 1\n",
    "\n",
    "Rozważamy zmienne objaśniające w kolejności płeć, klasę i wiek.\n",
    "Zauważamy ujemny wkład dla dwóch pierwszych zmiennych i dodatni dla trzeciej. Fakt, że pasażer by chłopcem zmniejsza szanse przeżycia w porównaniu ze średnią przewidywaną przez model. Podróżował on w drugiej klasie, co jeszcze bardziej obniża prawdopodobieństwo przeżycia. Jednak to, że jest młody znacznie zwiększa jego prawdopodobieństwo przeżycia - ten wniosek wynika z faktu, że większość pasażerów drugiej klasy stanowili dorośli.\n",
    "\n",
    "\n",
    "\n",
    "#### Wyjaśnienie 2\n",
    "\n",
    "Rozważamy teraz zmienne w kolejności płeć, wiek i klasa. Rysunek wskazuje na pozytywny wkład klasy, inaczej niż w pierwszym wyjaśnieniu. Pasażer był chłopcem, ponownie widzimy, że zmiejsza to szanse. Jednak był bardzo młody, a to zwiększa szanse przeżycia w porównaniu z dorosłymi mężczyznami. Fakt, że podróżował w drugiej klasie również zwiększa szansę na przeżycie. Wynika to z faktu, że więkość dzieci podróżowała trzecią klasę.\n",
    "\n",
    "![](figures/3.png)"
   ]
  },
  {
   "cell_type": "markdown",
   "metadata": {},
   "source": [
    "### Plusy i minusy\n",
    "\n",
    "- Metoda Break Down działa niezależnie od modelu, zatem możemy stosować do każdego modelu predykcyjnego, który zwraca predykcję dla pojedynczej obserwacji (instancji).\n",
    "\n",
    "- Wykresy są łatwe w zrozumieniu, podejście sprowadza się do intuicyjnej interpretacji dla modeli liniowych.\n",
    "\n",
    "- Złożoność algorytmu jest liniowa w stosunku do liczby zmiennych objaśniających.\n",
    "\n",
    "- Wykresy mogą być mylące dla modeli zawierających interakacje. "
   ]
  },
  {
   "cell_type": "markdown",
   "metadata": {},
   "source": [
    "## Break Down na przykładzie wyceny nieruchomości"
   ]
  },
  {
   "cell_type": "markdown",
   "metadata": {},
   "source": [
    "### Dane i modele "
   ]
  },
  {
   "cell_type": "markdown",
   "metadata": {},
   "source": [
    "#### Dane"
   ]
  },
  {
   "cell_type": "code",
   "execution_count": null,
   "metadata": {},
   "outputs": [],
   "source": [
    "train = pd.read_csv(\"train.csv\")"
   ]
  },
  {
   "cell_type": "code",
   "execution_count": null,
   "metadata": {},
   "outputs": [],
   "source": [
    "train.head()"
   ]
  },
  {
   "cell_type": "code",
   "execution_count": null,
   "metadata": {},
   "outputs": [],
   "source": [
    "variables = [\"bedrooms\", \"bathrooms\", \"floors\", \"waterfront\", \"view\", \"condition\", \"grade\", \"lat\", \"long\", \"age\", \"m2_living\", \"m2_lot\", \"m2_basement\"]"
   ]
  },
  {
   "cell_type": "code",
   "execution_count": null,
   "metadata": {},
   "outputs": [],
   "source": [
    "X_train = train[variables]\n",
    "y_train = train.price_log"
   ]
  },
  {
   "cell_type": "code",
   "execution_count": null,
   "metadata": {},
   "outputs": [],
   "source": [
    "X_train.head()"
   ]
  },
  {
   "cell_type": "markdown",
   "metadata": {},
   "source": [
    "#### Modele"
   ]
  },
  {
   "cell_type": "code",
   "execution_count": null,
   "metadata": {},
   "outputs": [],
   "source": [
    "reg_lin = pickle.load(open(\"reg_lin\", 'rb')) #regresja liniowa\n",
    "reg_dd = pickle.load(open(\"reg_dd\", 'rb')) #drzewo decyzyjne\n",
    "reg_rr = pickle.load(open(\"reg_rr\", 'rb')) #las losowy\n",
    "reg_gb = pickle.load(open(\"reg_gb\", 'rb')) #gradient boosting"
   ]
  },
  {
   "cell_type": "markdown",
   "metadata": {},
   "source": [
    "### Wyjaśnienia"
   ]
  },
  {
   "cell_type": "code",
   "execution_count": null,
   "metadata": {},
   "outputs": [],
   "source": [
    "import dalex as dx\n",
    "import numpy as np"
   ]
  },
  {
   "cell_type": "code",
   "execution_count": null,
   "metadata": {},
   "outputs": [],
   "source": [
    "def predict_function(model, data):\n",
    "    return np.exp(model.predict(data))"
   ]
  },
  {
   "cell_type": "code",
   "execution_count": null,
   "metadata": {},
   "outputs": [],
   "source": [
    "explainer = dx.Explainer(reg_rr, X_train, y_train, predict_function=predict_function)"
   ]
  },
  {
   "cell_type": "markdown",
   "metadata": {},
   "source": [
    "*Explainer* jest obiektem, który opakowuje model i tworzy jednolitą strukturę."
   ]
  },
  {
   "cell_type": "markdown",
   "metadata": {},
   "source": [
    "#### predict_parts()"
   ]
  },
  {
   "cell_type": "code",
   "execution_count": null,
   "metadata": {},
   "outputs": [],
   "source": [
    "X_train.iloc[0,:]"
   ]
  },
  {
   "cell_type": "code",
   "execution_count": null,
   "metadata": {},
   "outputs": [],
   "source": [
    "explainer.predict(X_train)[0]"
   ]
  },
  {
   "cell_type": "code",
   "execution_count": null,
   "metadata": {},
   "outputs": [],
   "source": [
    "pp = explainer.predict_parts(X_train.iloc[0,:])"
   ]
  },
  {
   "cell_type": "code",
   "execution_count": null,
   "metadata": {},
   "outputs": [],
   "source": [
    "pp"
   ]
  },
  {
   "cell_type": "code",
   "execution_count": null,
   "metadata": {},
   "outputs": [],
   "source": [
    "pp.plot()"
   ]
  },
  {
   "cell_type": "markdown",
   "metadata": {},
   "source": [
    "# Metoda Shapley values"
   ]
  },
  {
   "cell_type": "markdown",
   "metadata": {},
   "source": [
    "![](figures/4.png)"
   ]
  },
  {
   "cell_type": "markdown",
   "metadata": {},
   "source": [
    "Metoda Shapley values jest uśrednieniem wszystkich ułożeń zmiennych."
   ]
  },
  {
   "cell_type": "markdown",
   "metadata": {},
   "source": [
    "![](figures/5.png)"
   ]
  },
  {
   "cell_type": "markdown",
   "metadata": {},
   "source": [
    "Pozytywne i negatywne kontrybucje, boxploty informują o wartościach kontrybucji poszczególych ułożeń zmiennych."
   ]
  },
  {
   "cell_type": "markdown",
   "metadata": {},
   "source": [
    "### Plusy i minusy\n",
    "\n",
    "- Wartości Shapleya zapewniają jednolite podejście do dekomponowania przewidywań modelu na wkłady, które mogą być przypisane addytywnie do różnych zmiennych objaśniających. \n",
    "\n",
    "- Ważnym praktycznym ograniczeniem ogólnej metody niezależnej od modelu jest to, że w przypadku dużych modeli obliczanie wartości Shapleya jest czasochłonne."
   ]
  },
  {
   "cell_type": "code",
   "execution_count": null,
   "metadata": {},
   "outputs": [],
   "source": [
    "pp_shap = explainer.predict_parts(X_train.iloc[0,:], type='shap')"
   ]
  },
  {
   "cell_type": "code",
   "execution_count": null,
   "metadata": {},
   "outputs": [],
   "source": [
    "pp_shap"
   ]
  },
  {
   "cell_type": "code",
   "execution_count": null,
   "metadata": {},
   "outputs": [],
   "source": [
    "pp_shap.plot()"
   ]
  },
  {
   "cell_type": "code",
   "execution_count": null,
   "metadata": {},
   "outputs": [],
   "source": []
  }
 ],
 "metadata": {
  "kernelspec": {
   "display_name": "Python 3",
   "language": "python",
   "name": "python3"
  },
  "language_info": {
   "codemirror_mode": {
    "name": "ipython",
    "version": 3
   },
   "file_extension": ".py",
   "mimetype": "text/x-python",
   "name": "python",
   "nbconvert_exporter": "python",
   "pygments_lexer": "ipython3",
   "version": "3.7.6"
  }
 },
 "nbformat": 4,
 "nbformat_minor": 4
}
